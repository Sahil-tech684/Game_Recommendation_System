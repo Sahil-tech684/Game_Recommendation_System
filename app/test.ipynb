{
 "cells": [
  {
   "cell_type": "code",
   "execution_count": 2,
   "id": "a986a3ff",
   "metadata": {},
   "outputs": [],
   "source": [
    "import pandas as pd\n",
    "import numpy as np\n",
    "import pickle\n",
    "from typing import List, Tuple\n",
    "import streamlit as st"
   ]
  },
  {
   "cell_type": "code",
   "execution_count": 8,
   "id": "be497a21",
   "metadata": {},
   "outputs": [
    {
     "name": "stderr",
     "output_type": "stream",
     "text": [
      "2025-08-10 12:56:11.878 No runtime found, using MemoryCacheStorageManager\n"
     ]
    }
   ],
   "source": [
    "@st.cache_data\n",
    "def load_data():\n",
    "    df = pickle.load(open(r'D:\\SAHIL\\Projects\\Game_Recommendation_System\\models\\model\\game_metadata.pkl', 'rb'))\n",
    "    similarity = pickle.load(open(r'D:\\SAHIL\\Projects\\Game_Recommendation_System\\models\\model\\similarity_matrix.pkl', 'rb'))\n",
    "    return df, similarity"
   ]
  },
  {
   "cell_type": "code",
   "execution_count": 9,
   "id": "435b2b4e",
   "metadata": {},
   "outputs": [
    {
     "name": "stderr",
     "output_type": "stream",
     "text": [
      "2025-08-10 12:56:14.093 No runtime found, using MemoryCacheStorageManager\n"
     ]
    }
   ],
   "source": [
    "df, similarity = load_data()"
   ]
  },
  {
   "cell_type": "code",
   "execution_count": 11,
   "id": "9562cc3f",
   "metadata": {},
   "outputs": [
    {
     "data": {
      "text/plain": [
       "Index(['id', 'name_x', 'info', 'poster', 'about', 'name_y', 'reviews'], dtype='object')"
      ]
     },
     "execution_count": 11,
     "metadata": {},
     "output_type": "execute_result"
    }
   ],
   "source": [
    "df.columns"
   ]
  },
  {
   "cell_type": "code",
   "execution_count": null,
   "id": "def3aa2e",
   "metadata": {},
   "outputs": [],
   "source": []
  }
 ],
 "metadata": {
  "kernelspec": {
   "display_name": "Python 3",
   "language": "python",
   "name": "python3"
  },
  "language_info": {
   "codemirror_mode": {
    "name": "ipython",
    "version": 3
   },
   "file_extension": ".py",
   "mimetype": "text/x-python",
   "name": "python",
   "nbconvert_exporter": "python",
   "pygments_lexer": "ipython3",
   "version": "3.10.7"
  }
 },
 "nbformat": 4,
 "nbformat_minor": 5
}
